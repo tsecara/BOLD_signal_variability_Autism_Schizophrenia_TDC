{
 "cells": [
  {
   "cell_type": "code",
   "execution_count": null,
   "metadata": {},
   "outputs": [],
   "source": [
    "import glob\n",
    "import pandas as pd\n",
    "import os\n",
    "import scipy.stats as stats\n",
    "import numpy as np\n",
    "import matplotlib.pyplot as plt"
   ]
  },
  {
   "cell_type": "code",
   "execution_count": null,
   "metadata": {},
   "outputs": [],
   "source": [
    "'''MERGING SPINS AND SPASDS DATASET CSVS'''\n",
    "\n",
    "df1 = pd.read_csv('/projects/tsecara/SPINS_ASD_Project2/data/SPASD/mssd_meancentered_SPASD_EA_RSclean.csv')\n",
    "df2 = pd.read_csv('/projects/tsecara/SPINS_ASD_Project2/data/SPINS/mssd_meancentered_SPINS_EA_RSclean.csv') \n",
    "\n",
    "# Concatenate DataFrames vertically\n",
    "merged_df = pd.concat([df1, df2], ignore_index=True)\n",
    "\n",
    "# Delete a specific row by index\n",
    "rows_to_drop = [123]  # deletes the matrix region label name\n",
    "merged_df = merged_df.drop(rows_to_drop)\n",
    "\n",
    "# Delete the first column\n",
    "merged_df = merged_df.drop(merged_df.columns[0], axis=1)\n",
    "# Save the merged DataFrame to a new CSV file\n",
    "merged_df.to_csv('/projects/tsecara/SPINS_ASD_Project2/data/combined/combined_mssd_mean_EA_RSclean.csv', index=False)"
   ]
  }
 ],
 "metadata": {
  "kernelspec": {
   "display_name": "Python 3 (ipykernel)",
   "language": "python",
   "name": "python3"
  },
  "language_info": {
   "codemirror_mode": {
    "name": "ipython",
    "version": 3
   },
   "file_extension": ".py",
   "mimetype": "text/x-python",
   "name": "python",
   "nbconvert_exporter": "python",
   "pygments_lexer": "ipython3",
   "version": "3.10.12"
  }
 },
 "nbformat": 4,
 "nbformat_minor": 4
}
