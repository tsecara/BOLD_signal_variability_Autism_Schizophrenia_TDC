{
 "cells": [
  {
   "cell_type": "code",
   "execution_count": null,
   "metadata": {},
   "outputs": [],
   "source": [
    "!pip install pandas scipy numpy matplotlib ipywidgets scikit-learn seaborn scipy statsmodels "
   ]
  },
  {
   "cell_type": "code",
   "execution_count": 2,
   "metadata": {},
   "outputs": [],
   "source": [
    "import glob\n",
    "import pandas as pd\n",
    "import os\n",
    "import scipy.stats as stats\n",
    "import numpy as np\n",
    "import matplotlib.pyplot as plt\n",
    "from ipywidgets import interact, IntSlider, fixed #slider for the radar plots\n",
    "from sklearn.preprocessing import MinMaxScaler #for keeping the same scales for the radar plots\n",
    "import seaborn as sns\n",
    "from scipy.stats import pearsonr\n",
    "import statsmodels.api as sm\n",
    "import statsmodels.formula.api as smf"
   ]
  },
  {
   "cell_type": "code",
   "execution_count": 5,
   "metadata": {
    "scrolled": true
   },
   "outputs": [
    {
     "data": {
      "text/plain": [
       "'HAVE TO MAKE SURE THAT THE REGION LABELS ARE ACTUALLY WITHIN THE HEADER INSTEAD OF JUST THE FIRST ROW'"
      ]
     },
     "execution_count": 5,
     "metadata": {},
     "output_type": "execute_result"
    }
   ],
   "source": [
    "'''INSERT THE MATRICES THAT HAVE THE MSSD DATA AND REGIONAL DATA'''\n",
    "\n",
    "region_data = pd.read_csv('/projects/tsecara/SPINS_ASD_Project2/Glasser_Tian_roi_info.csv')\n",
    "mssd_data = pd.read_csv('/projects/tsecara/SPINS_ASD_Project2/data/combined/regional_MSSD/neurocombat/combined_mssd_mean_EA_RScleanFINAL.csv', header = 0, index_col = 0) #for changing this when the rows and columns are a little funky\n",
    "\n",
    "'''HAVE TO MAKE SURE THAT THE REGION LABELS ARE ACTUALLY WITHIN THE HEADER INSTEAD OF JUST THE FIRST ROW'''"
   ]
  },
  {
   "cell_type": "code",
   "execution_count": 6,
   "metadata": {},
   "outputs": [],
   "source": [
    "'''CREATES A DICTIONARY TO HELP WITH MAPPING THE NETWORKS TOGETHER'''\n",
    "# Create a mapping from region names to their corresponding network\n",
    "region_to_network = dict(zip(region_data['atlas_roi'], region_data['net_ColeAnt']))"
   ]
  },
  {
   "cell_type": "code",
   "execution_count": 7,
   "metadata": {},
   "outputs": [],
   "source": [
    "'''TO SET UP THE RADAR PLOTS AND THE INFORMATION THAT GOES WIHTIN IT'''\n",
    "\n",
    "# Get unique networks\n",
    "networks = region_data['net_ColeAnt'].unique()\n",
    "\n",
    "# Initializes DataFrame to hold the all the MSSD values by network instead of region\n",
    "network_mssd_data = pd.DataFrame(index=mssd_data.index, columns=networks)\n",
    "\n",
    "# Iterate over each participant\n",
    "for participant in mssd_data.index:\n",
    "    # Get the MSSD values for the participant\n",
    "    participant_mssd = mssd_data.loc[participant]\n",
    "    \n",
    "    # Initialize a dictionary to hold all of the MSSD values for each network\n",
    "    network_mssd = {network: [] for network in networks}\n",
    "    \n",
    "    # Group the MSSD values by network (by looking at their regions and how they correspond to the same network)\n",
    "    for region, mssd_value in participant_mssd.items():\n",
    "        if region in region_to_network:\n",
    "            network = region_to_network[region]\n",
    "            network_mssd[network].append(mssd_value)\n",
    "    \n",
    "    # Calculate the mean MSSD value for each network\n",
    "    for network in networks:\n",
    "        if network_mssd[network]:\n",
    "            network_mssd_data.loc[participant, network] = np.mean(network_mssd[network])\n",
    "        else:\n",
    "            network_mssd_data.loc[participant, network] = np.nan\n",
    "\n",
    "# Drop any columns (networks) that are entirely NaN - which I hope is none...\n",
    "network_mssd_data.dropna(axis=1, how='all', inplace=True)\n"
   ]
  },
  {
   "cell_type": "code",
   "execution_count": null,
   "metadata": {},
   "outputs": [],
   "source": [
    "#Saves a csv file containing participant network MSSD values \n",
    "pd.DataFrame(network_mssd_data).to_csv(\"/projects/tsecara/SPINS_ASD_Project2/data/combined/network_MSSD/EA_MSSD_NETWORK.csv\") #gets a csv file here"
   ]
  }
 ],
 "metadata": {
  "kernelspec": {
   "display_name": "Python 3 (ipykernel)",
   "language": "python",
   "name": "python3"
  },
  "language_info": {
   "codemirror_mode": {
    "name": "ipython",
    "version": 3
   },
   "file_extension": ".py",
   "mimetype": "text/x-python",
   "name": "python",
   "nbconvert_exporter": "python",
   "pygments_lexer": "ipython3",
   "version": "3.10.12"
  }
 },
 "nbformat": 4,
 "nbformat_minor": 4
}
